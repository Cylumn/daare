{
 "cells": [
  {
   "cell_type": "code",
   "execution_count": null,
   "outputs": [],
   "source": [
    "'''\n",
    "Training script for DAARE\n",
    "Author: Allen Chang\n",
    "Date Created: 08/02/2022\n",
    "'''\n",
    "\n",
    "import argparse\n",
    "\n",
    "from data import simulate\n",
    "\n",
    "\n",
    "def get_args():\n",
    "    parser = argparse.ArgumentParser('DAARE', add_help=False)\n",
    "\n",
    "    # Paths\n",
    "    parser.add_argument('--path_to_data', default='data', type=str, help='Path to the data directory.')\n",
    "    parser.add_argument('--path_to_logs', default='logs', type=str, help='Path to the logs directory.')\n",
    "\n",
    "    # Options\n",
    "    parser.add_argument('--model_name', default='daare_v1', type=str, help='Name of the model when logging and saving.')\n",
    "    parser.add_argument('--verbose', action='store_true', help='Trains with debugging outputs and print statements.')\n",
    "    parser.add_argument('--disable_logs', action='store_false', help='Disables logging to the output log directory.')\n",
    "    parser.add_argument('--refresh_brushes_file', action='store_true',\n",
    "                        help='Rereads brush images and saves them to data/brushes.csv')\n",
    "\n",
    "    # Simulation parameters\n",
    "    parser.add_argument('--theta_bg_intensity', default=[0, 0.6], type=float, nargs=2,\n",
    "                        help='Bounds of the uniform distribution to draw background intensity.')\n",
    "    parser.add_argument('--theta_n_akr', default=8, type=int,\n",
    "                        help='Expected number of akr from the poisson distribution.')\n",
    "    parser.add_argument('--theta_akr_intensity', default=[0, 0.15], type=float, nargs=2,\n",
    "                        help='(Before absolute value) mean and std of AKR intensity.')\n",
    "    parser.add_argument('--theta_gaussian_intensity', default=[0.01, 0.04], type=float, nargs=2,\n",
    "                        help='Bounds of the uniform distribution to determine the intensity of gaussian noise.')\n",
    "    parser.add_argument('--theta_overall_channel_intensity', default=[0.3, 0.6], type=float, nargs=2,\n",
    "                        help='Bounds of the uniform distribution to determine the overall intensity of channels.')\n",
    "    parser.add_argument('--theta_n_channels', default=15, type=int,\n",
    "                        help='Expected number of channels from the poisson distribution.')\n",
    "    parser.add_argument('--theta_channel_height', default=4, type=int,\n",
    "                        help='Expected *half* height of the channel from the exponential distribution.')\n",
    "    parser.add_argument('--theta_channel_intensity', default=[0.1, 0.8], type=float, nargs=2,\n",
    "                        help='Bounds of the uniform distribution to determine the individual intensity of channels.')\n",
    "\n",
    "    # Model parameters\n",
    "    parser.add_argument('--img_size', default=[256, 384], type=int, nargs=2, help='Input size to DAARE.')\n",
    "    parser.add_argument('--n_cdae', default=6, type=int,\n",
    "                        help='The number of stacked convolutional denoising autoencoders in DAARE.')\n",
    "    parser.add_argument('--depth', default=8, type=int, help='Depth of each convolutional denoising autoencoder.')\n",
    "    parser.add_argument('--kernel', default=[13, 5], type=int, nargs=2,\n",
    "                        help='Kernel shape for the convolutional layers.')\n",
    "    parser.add_argument('--n_layernorm', default=3, type=int,\n",
    "                        help='The first n convolutional autoencoders to apply layernorm to.')\n",
    "\n",
    "    # Training parameters\n",
    "    parser.add_argument('--n_train', default=4096, type=int,\n",
    "                        help='The number of training samples that are included in the training set.')\n",
    "    parser.add_argument('--n_valid', default=1024, type=int,\n",
    "                        help='The number of validation samples that are included in the validation set.')\n",
    "    parser.add_argument('--n_epochs_per_cdae', default=10, type=int,\n",
    "                        help='The number of epochs to train each convolutional denoising autoencoder.')\n",
    "    parser.add_argument('--learning_rate', default=1e-4, type=float,\n",
    "                        help='The learning rate of each convolutional denoising autoencoder.')\n",
    "\n",
    "    # Read arguments\n",
    "    args = parser.parse_args([])\n",
    "    args.img_size = tuple(args.img_size)\n",
    "    args.kernel = tuple(args.kernel)\n",
    "\n",
    "    # Assertions\n",
    "    assert (args.n_cdae >= args.n_layernorm), 'Number of layernorms is larger than the number of CDAEs.'\n",
    "\n",
    "    return args"
   ],
   "metadata": {
    "collapsed": false,
    "pycharm": {
     "name": "#%%\n"
    }
   }
  },
  {
   "cell_type": "code",
   "execution_count": null,
   "outputs": [],
   "source": [
    "args = get_args()"
   ],
   "metadata": {
    "collapsed": false,
    "pycharm": {
     "name": "#%%\n"
    }
   }
  },
  {
   "cell_type": "code",
   "execution_count": null,
   "outputs": [],
   "source": [
    "from simulate "
   ],
   "metadata": {
    "collapsed": false,
    "pycharm": {
     "name": "#%%\n"
    }
   }
  },
  {
   "cell_type": "code",
   "execution_count": null,
   "outputs": [],
   "source": [],
   "metadata": {
    "collapsed": false,
    "pycharm": {
     "name": "#%%\n"
    }
   }
  },
  {
   "cell_type": "code",
   "execution_count": 4,
   "metadata": {},
   "outputs": [],
   "source": [
    "args = get_args()"
   ]
  },
  {
   "cell_type": "code",
   "execution_count": 5,
   "metadata": {},
   "outputs": [
    {
     "data": {
      "text/plain": [
       "Namespace(path_to_data='data', path_to_logs='logs', model_name='daare_v1', verbose=False, disable_logs=True, refresh_brushes_file=False, theta_bg_intensity=[0, 0.6], theta_n_akr=8, theta_akr_intensity=[0, 0.15], theta_gaussian_intensity=[0.01, 0.04], theta_overall_channel_intensity=[0.3, 0.6], theta_n_channels=15, theta_channel_height=4, theta_channel_intensity=[0.1, 0.8], img_size=(256, 384), n_cdae=6, depth=8, kernel=(13, 5), n_layernorm=3, n_train=4096, n_valid=1024, n_epochs_per_cdae=10, learning_rate=0.0001)"
      ]
     },
     "execution_count": 5,
     "metadata": {},
     "output_type": "execute_result"
    }
   ],
   "source": [
    "from simulate "
   ]
  },
  {
   "cell_type": "code",
   "execution_count": null,
   "metadata": {},
   "outputs": [],
   "source": []
  }
 ],
 "metadata": {
  "kernelspec": {
   "display_name": "Python 3 (ipykernel)",
   "language": "python",
   "name": "python3"
  },
  "language_info": {
   "codemirror_mode": {
    "name": "ipython",
    "version": 3
   },
   "file_extension": ".py",
   "mimetype": "text/x-python",
   "name": "python",
   "nbconvert_exporter": "python",
   "pygments_lexer": "ipython3",
   "version": "3.9.12"
  }
 },
 "nbformat": 4,
 "nbformat_minor": 1
}